{
 "cells": [
  {
   "cell_type": "code",
   "execution_count": 10,
   "metadata": {},
   "outputs": [
    {
     "ename": "NameError",
     "evalue": "name 'spark' is not defined",
     "output_type": "error",
     "traceback": [
      "\u001b[0;31m---------------------------------------------------------------------------\u001b[0m",
      "\u001b[0;31mNameError\u001b[0m                                 Traceback (most recent call last)",
      "\u001b[1;32m/Users/I538762/Library/CloudStorage/OneDrive-SAPSE/01_HKA/01_SEM01/06_BigData/Project/BigData/Model.ipynb Cell 1\u001b[0m line \u001b[0;36m1\n\u001b[1;32m      <a href='vscode-notebook-cell:/Users/I538762/Library/CloudStorage/OneDrive-SAPSE/01_HKA/01_SEM01/06_BigData/Project/BigData/Model.ipynb#W0sZmlsZQ%3D%3D?line=4'>5</a>\u001b[0m \u001b[39mimport\u001b[39;00m \u001b[39mpandas\u001b[39;00m \u001b[39mas\u001b[39;00m \u001b[39mpd\u001b[39;00m\n\u001b[1;32m      <a href='vscode-notebook-cell:/Users/I538762/Library/CloudStorage/OneDrive-SAPSE/01_HKA/01_SEM01/06_BigData/Project/BigData/Model.ipynb#W0sZmlsZQ%3D%3D?line=6'>7</a>\u001b[0m \u001b[39m# data = pd.read_csv('../customers.csv', delimiter=\"|\")\u001b[39;00m\n\u001b[1;32m      <a href='vscode-notebook-cell:/Users/I538762/Library/CloudStorage/OneDrive-SAPSE/01_HKA/01_SEM01/06_BigData/Project/BigData/Model.ipynb#W0sZmlsZQ%3D%3D?line=7'>8</a>\u001b[0m \n\u001b[1;32m      <a href='vscode-notebook-cell:/Users/I538762/Library/CloudStorage/OneDrive-SAPSE/01_HKA/01_SEM01/06_BigData/Project/BigData/Model.ipynb#W0sZmlsZQ%3D%3D?line=8'>9</a>\u001b[0m \u001b[39m# Load the data stored in LIBSVM format as a DataFrame.\u001b[39;00m\n\u001b[0;32m---> <a href='vscode-notebook-cell:/Users/I538762/Library/CloudStorage/OneDrive-SAPSE/01_HKA/01_SEM01/06_BigData/Project/BigData/Model.ipynb#W0sZmlsZQ%3D%3D?line=9'>10</a>\u001b[0m data \u001b[39m=\u001b[39m spark\u001b[39m.\u001b[39mread\u001b[39m.\u001b[39mformat(\u001b[39m\"\u001b[39m\u001b[39mcsv\u001b[39m\u001b[39m\"\u001b[39m)\u001b[39m.\u001b[39mload(\u001b[39m'\u001b[39m\u001b[39m../customers.csv\u001b[39m\u001b[39m'\u001b[39m)\n\u001b[1;32m     <a href='vscode-notebook-cell:/Users/I538762/Library/CloudStorage/OneDrive-SAPSE/01_HKA/01_SEM01/06_BigData/Project/BigData/Model.ipynb#W0sZmlsZQ%3D%3D?line=11'>12</a>\u001b[0m \u001b[39m# Index labels, adding metadata to the label column.\u001b[39;00m\n\u001b[1;32m     <a href='vscode-notebook-cell:/Users/I538762/Library/CloudStorage/OneDrive-SAPSE/01_HKA/01_SEM01/06_BigData/Project/BigData/Model.ipynb#W0sZmlsZQ%3D%3D?line=12'>13</a>\u001b[0m \u001b[39m# Fit on whole dataset to include all labels in index.\u001b[39;00m\n\u001b[1;32m     <a href='vscode-notebook-cell:/Users/I538762/Library/CloudStorage/OneDrive-SAPSE/01_HKA/01_SEM01/06_BigData/Project/BigData/Model.ipynb#W0sZmlsZQ%3D%3D?line=13'>14</a>\u001b[0m \u001b[39m# labelIndexer = StringIndexer(inputCol=\"label\", outputCol=\"indexedLabel\").fit(data)\u001b[39;00m\n\u001b[0;32m   (...)\u001b[0m\n\u001b[1;32m     <a href='vscode-notebook-cell:/Users/I538762/Library/CloudStorage/OneDrive-SAPSE/01_HKA/01_SEM01/06_BigData/Project/BigData/Model.ipynb#W0sZmlsZQ%3D%3D?line=17'>18</a>\u001b[0m \n\u001b[1;32m     <a href='vscode-notebook-cell:/Users/I538762/Library/CloudStorage/OneDrive-SAPSE/01_HKA/01_SEM01/06_BigData/Project/BigData/Model.ipynb#W0sZmlsZQ%3D%3D?line=18'>19</a>\u001b[0m \u001b[39m# Split the data into training and test sets (30% held out for testing)\u001b[39;00m\n\u001b[1;32m     <a href='vscode-notebook-cell:/Users/I538762/Library/CloudStorage/OneDrive-SAPSE/01_HKA/01_SEM01/06_BigData/Project/BigData/Model.ipynb#W0sZmlsZQ%3D%3D?line=19'>20</a>\u001b[0m (trainingData, testData) \u001b[39m=\u001b[39m data\u001b[39m.\u001b[39mrandomSplit([\u001b[39m0.7\u001b[39m, \u001b[39m0.3\u001b[39m])\n",
      "\u001b[0;31mNameError\u001b[0m: name 'spark' is not defined"
     ]
    }
   ],
   "source": [
    "from pyspark.ml import Pipeline\n",
    "from pyspark.ml.classification import DecisionTreeClassifier\n",
    "from pyspark.ml.feature import StringIndexer, VectorIndexer\n",
    "from pyspark.ml.evaluation import MulticlassClassificationEvaluator\n",
    "import pandas as pd\n",
    "\n",
    "# data = pd.read_csv('../customers.csv', delimiter=\"|\")\n",
    "\n",
    "# Load the data stored in LIBSVM format as a DataFrame.\n",
    "data = spark.read.format(\"csv\").load('../customers.csv')\n",
    "\n",
    "# Index labels, adding metadata to the label column.\n",
    "# Fit on whole dataset to include all labels in index.\n",
    "# labelIndexer = StringIndexer(inputCol=\"label\", outputCol=\"indexedLabel\").fit(data)\n",
    "# Automatically identify categorical features, and index them.\n",
    "# We specify maxCategories so features with > 4 distinct values are treated as continuous.\n",
    "# featureIndexer =\\ VectorIndexer(inputCol=\"features\", outputCol=\"indexedFeatures\", maxCategories=4).fit(data)\n",
    "\n",
    "# Split the data into training and test sets (30% held out for testing)\n",
    "(trainingData, testData) = data.randomSplit([0.7, 0.3])\n",
    "\n",
    "# Train a DecisionTree model.\n",
    "dt = DecisionTreeClassifier(labelCol=\"indexedLabel\", featuresCol=\"indexedFeatures\")\n",
    "\n",
    "# Chain indexers and tree in a Pipeline\n",
    "pipeline = Pipeline(stages=[labelIndexer, featureIndexer, dt])\n",
    "\n",
    "# Train model.  This also runs the indexers.\n",
    "model = pipeline.fit(trainingData)\n",
    "\n",
    "# Make predictions.\n",
    "predictions = model.transform(testData)\n",
    "\n",
    "# Select example rows to display.\n",
    "predictions.select(\"prediction\", \"indexedLabel\", \"features\").show(5)\n",
    "\n",
    "# Select (prediction, true label) and compute test error\n",
    "evaluator = MulticlassClassificationEvaluator(\n",
    "    labelCol=\"indexedLabel\", predictionCol=\"prediction\", metricName=\"accuracy\")\n",
    "accuracy = evaluator.evaluate(predictions)\n",
    "print(\"Test Error = %g \" % (1.0 - accuracy))\n",
    "\n",
    "treeModel = model.stages[2]\n",
    "# summary only\n",
    "print(treeModel)"
   ]
  }
 ],
 "metadata": {
  "kernelspec": {
   "display_name": "Python 3",
   "language": "python",
   "name": "python3"
  },
  "language_info": {
   "codemirror_mode": {
    "name": "ipython",
    "version": 3
   },
   "file_extension": ".py",
   "mimetype": "text/x-python",
   "name": "python",
   "nbconvert_exporter": "python",
   "pygments_lexer": "ipython3",
   "version": "3.12.0"
  }
 },
 "nbformat": 4,
 "nbformat_minor": 2
}
